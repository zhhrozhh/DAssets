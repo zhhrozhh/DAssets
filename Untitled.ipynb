{
 "cells": [
  {
   "cell_type": "code",
   "execution_count": 1,
   "metadata": {},
   "outputs": [],
   "source": [
    "from DAssets import AST_CC\n",
    "import quandl\n",
    "quandl.ApiConfig.api_key = 'rixaXs71r2KgkmPHW9jZ'\n",
    "import matplotlib.pyplot as plt\n",
    "%matplotlib inline\n",
    "import pandas as pd\n",
    "import numpy as np"
   ]
  },
  {
   "cell_type": "code",
   "execution_count": 2,
   "metadata": {},
   "outputs": [],
   "source": [
    "g = AST_CC(sub_assets=['BABA','YRD','SQQQ','X'],period=25,decay=0.001)"
   ]
  },
  {
   "cell_type": "code",
   "execution_count": 3,
   "metadata": {},
   "outputs": [],
   "source": [
    "g.feed()"
   ]
  },
  {
   "cell_type": "code",
   "execution_count": 4,
   "metadata": {},
   "outputs": [],
   "source": [
    "a,b = g()"
   ]
  },
  {
   "cell_type": "code",
   "execution_count": 5,
   "metadata": {},
   "outputs": [
    {
     "data": {
      "text/plain": [
       "<matplotlib.axes._subplots.AxesSubplot at 0x111ea6cc0>"
      ]
     },
     "execution_count": 5,
     "metadata": {},
     "output_type": "execute_result"
    },
    {
     "data": {
      "image/png": "[encoded data removed]",
      "text/plain": [
       "<Figure size 432x288 with 1 Axes>"
      ]
     },
     "metadata": {},
     "output_type": "display_data"
    }
   ],
   "source": [
    "a.hist()"
   ]
  },
  {
   "cell_type": "code",
   "execution_count": 7,
   "metadata": {},
   "outputs": [
    {
     "data": {
      "text/plain": [
       "<matplotlib.axes._subplots.AxesSubplot at 0x11c21fda0>"
      ]
     },
     "execution_count": 7,
     "metadata": {},
     "output_type": "execute_result"
    },
    {
     "data": {
      "image/png": "[encoded data removed]",
      "text/plain": [
       "<Figure size 432x288 with 1 Axes>"
      ]
     },
     "metadata": {},
     "output_type": "display_data"
    }
   ],
   "source": [
    "a.hist()"
   ]
  },
  {
   "cell_type": "code",
   "execution_count": 15,
   "metadata": {},
   "outputs": [
    {
     "data": {
      "text/plain": [
       "<matplotlib.axes._subplots.AxesSubplot at 0x1126aeeb8>"
      ]
     },
     "execution_count": 15,
     "metadata": {},
     "output_type": "execute_result"
    },
    {
     "data": {
      "image/png": "[encoded data removed]",
      "text/plain": [
       "<Figure size 432x288 with 1 Axes>"
      ]
     },
     "metadata": {},
     "output_type": "display_data"
    }
   ],
   "source": [
    "a.hist()"
   ]
  },
  {
   "cell_type": "code",
   "execution_count": 9,
   "metadata": {},
   "outputs": [
    {
     "data": {
      "text/plain": [
       "<matplotlib.axes._subplots.AxesSubplot at 0x118df6470>"
      ]
     },
     "execution_count": 9,
     "metadata": {},
     "output_type": "execute_result"
    },
    {
     "data": {
      "image/png": "[encoded data removed]",
      "text/plain": [
       "<Figure size 432x288 with 1 Axes>"
      ]
     },
     "metadata": {},
     "output_type": "display_data"
    }
   ],
   "source": [
    "a.hist()"
   ]
  },
  {
   "cell_type": "code",
   "execution_count": 11,
   "metadata": {},
   "outputs": [
    {
     "data": {
      "text/html": [
       "<div>\n",
       "<style scoped>\n",
       "    .dataframe tbody tr th:only-of-type {\n",
       "        vertical-align: middle;\n",
       "    }\n",
       "\n",
       "    .dataframe tbody tr th {\n",
       "        vertical-align: top;\n",
       "    }\n",
       "\n",
       "    .dataframe thead th {\n",
       "        text-align: right;\n",
       "    }\n",
       "</style>\n",
       "<table border=\"1\" class=\"dataframe\">\n",
       "  <thead>\n",
       "    <tr style=\"text-align: right;\">\n",
       "      <th></th>\n",
       "      <th>TQQQ</th>\n",
       "      <th>RH</th>\n",
       "      <th>MMM</th>\n",
       "      <th>!DEF0</th>\n",
       "    </tr>\n",
       "    <tr>\n",
       "      <th>Date</th>\n",
       "      <th></th>\n",
       "      <th></th>\n",
       "      <th></th>\n",
       "      <th></th>\n",
       "    </tr>\n",
       "  </thead>\n",
       "  <tbody>\n",
       "    <tr>\n",
       "      <th>2016-03-14</th>\n",
       "      <td>0.0352006</td>\n",
       "      <td>0.00250196</td>\n",
       "      <td>0.734787</td>\n",
       "      <td>0.227511</td>\n",
       "    </tr>\n",
       "    <tr>\n",
       "      <th>2016-03-15</th>\n",
       "      <td>0.0394708</td>\n",
       "      <td>0.00323409</td>\n",
       "      <td>0.699499</td>\n",
       "      <td>0.257796</td>\n",
       "    </tr>\n",
       "    <tr>\n",
       "      <th>2016-03-16</th>\n",
       "      <td>0.003196</td>\n",
       "      <td>0.00339178</td>\n",
       "      <td>0.793442</td>\n",
       "      <td>0.19997</td>\n",
       "    </tr>\n",
       "    <tr>\n",
       "      <th>2016-03-17</th>\n",
       "      <td>0.0257703</td>\n",
       "      <td>0.00378842</td>\n",
       "      <td>0.777079</td>\n",
       "      <td>0.193362</td>\n",
       "    </tr>\n",
       "    <tr>\n",
       "      <th>2016-03-18</th>\n",
       "      <td>0.00285876</td>\n",
       "      <td>0.00241391</td>\n",
       "      <td>0.829637</td>\n",
       "      <td>0.16509</td>\n",
       "    </tr>\n",
       "    <tr>\n",
       "      <th>2016-03-21</th>\n",
       "      <td>0.00796402</td>\n",
       "      <td>0.00222219</td>\n",
       "      <td>0.819563</td>\n",
       "      <td>0.17025</td>\n",
       "    </tr>\n",
       "    <tr>\n",
       "      <th>2016-03-22</th>\n",
       "      <td>0.077133</td>\n",
       "      <td>0.00263559</td>\n",
       "      <td>0.720123</td>\n",
       "      <td>0.200108</td>\n",
       "    </tr>\n",
       "    <tr>\n",
       "      <th>2016-03-23</th>\n",
       "      <td>0.173812</td>\n",
       "      <td>0.00260656</td>\n",
       "      <td>0.581024</td>\n",
       "      <td>0.242557</td>\n",
       "    </tr>\n",
       "    <tr>\n",
       "      <th>2016-03-24</th>\n",
       "      <td>0.254409</td>\n",
       "      <td>0.00248313</td>\n",
       "      <td>0.452604</td>\n",
       "      <td>0.290504</td>\n",
       "    </tr>\n",
       "    <tr>\n",
       "      <th>2016-03-28</th>\n",
       "      <td>0.107192</td>\n",
       "      <td>0.00262708</td>\n",
       "      <td>0.675031</td>\n",
       "      <td>0.21515</td>\n",
       "    </tr>\n",
       "    <tr>\n",
       "      <th>2016-03-29</th>\n",
       "      <td>0.00245869</td>\n",
       "      <td>0.00270108</td>\n",
       "      <td>0.846707</td>\n",
       "      <td>0.148133</td>\n",
       "    </tr>\n",
       "    <tr>\n",
       "      <th>2016-03-30</th>\n",
       "      <td>0.1002</td>\n",
       "      <td>0.0031874</td>\n",
       "      <td>0.688385</td>\n",
       "      <td>0.208228</td>\n",
       "    </tr>\n",
       "    <tr>\n",
       "      <th>2016-03-31</th>\n",
       "      <td>0.0814017</td>\n",
       "      <td>0.00387136</td>\n",
       "      <td>0.693987</td>\n",
       "      <td>0.22074</td>\n",
       "    </tr>\n",
       "    <tr>\n",
       "      <th>2016-04-01</th>\n",
       "      <td>0.0580207</td>\n",
       "      <td>0.00481226</td>\n",
       "      <td>0.719384</td>\n",
       "      <td>0.217783</td>\n",
       "    </tr>\n",
       "    <tr>\n",
       "      <th>2016-04-04</th>\n",
       "      <td>0.120105</td>\n",
       "      <td>0.00457819</td>\n",
       "      <td>0.641647</td>\n",
       "      <td>0.23367</td>\n",
       "    </tr>\n",
       "    <tr>\n",
       "      <th>2016-04-05</th>\n",
       "      <td>0.105962</td>\n",
       "      <td>0.00383848</td>\n",
       "      <td>0.632899</td>\n",
       "      <td>0.2573</td>\n",
       "    </tr>\n",
       "    <tr>\n",
       "      <th>2016-04-06</th>\n",
       "      <td>0.0554002</td>\n",
       "      <td>0.00464432</td>\n",
       "      <td>0.685113</td>\n",
       "      <td>0.254843</td>\n",
       "    </tr>\n",
       "    <tr>\n",
       "      <th>2016-04-07</th>\n",
       "      <td>0.112079</td>\n",
       "      <td>0.00411373</td>\n",
       "      <td>0.660114</td>\n",
       "      <td>0.223693</td>\n",
       "    </tr>\n",
       "    <tr>\n",
       "      <th>2016-04-08</th>\n",
       "      <td>0.0208426</td>\n",
       "      <td>0.0041498</td>\n",
       "      <td>0.769888</td>\n",
       "      <td>0.20512</td>\n",
       "    </tr>\n",
       "    <tr>\n",
       "      <th>2016-04-11</th>\n",
       "      <td>0.0266783</td>\n",
       "      <td>0</td>\n",
       "      <td>0.728889</td>\n",
       "      <td>0.244433</td>\n",
       "    </tr>\n",
       "    <tr>\n",
       "      <th>2016-04-12</th>\n",
       "      <td>0.0132583</td>\n",
       "      <td>1.61141e-18</td>\n",
       "      <td>0.762519</td>\n",
       "      <td>0.224223</td>\n",
       "    </tr>\n",
       "    <tr>\n",
       "      <th>2016-04-13</th>\n",
       "      <td>0.0200292</td>\n",
       "      <td>9.85112e-18</td>\n",
       "      <td>0.804378</td>\n",
       "      <td>0.175593</td>\n",
       "    </tr>\n",
       "    <tr>\n",
       "      <th>2016-04-14</th>\n",
       "      <td>0.0173684</td>\n",
       "      <td>0.0128484</td>\n",
       "      <td>0.782751</td>\n",
       "      <td>0.187032</td>\n",
       "    </tr>\n",
       "    <tr>\n",
       "      <th>2016-04-15</th>\n",
       "      <td>0.0232705</td>\n",
       "      <td>2.29472e-17</td>\n",
       "      <td>0.759558</td>\n",
       "      <td>0.217172</td>\n",
       "    </tr>\n",
       "    <tr>\n",
       "      <th>2016-04-18</th>\n",
       "      <td>0.0187764</td>\n",
       "      <td>1.02596e-18</td>\n",
       "      <td>0.803867</td>\n",
       "      <td>0.177357</td>\n",
       "    </tr>\n",
       "    <tr>\n",
       "      <th>2016-04-19</th>\n",
       "      <td>0.0445263</td>\n",
       "      <td>4.7836e-18</td>\n",
       "      <td>0.831857</td>\n",
       "      <td>0.123617</td>\n",
       "    </tr>\n",
       "    <tr>\n",
       "      <th>2016-04-20</th>\n",
       "      <td>0.0470705</td>\n",
       "      <td>0</td>\n",
       "      <td>0.833948</td>\n",
       "      <td>0.118981</td>\n",
       "    </tr>\n",
       "    <tr>\n",
       "      <th>2016-04-21</th>\n",
       "      <td>0.0706907</td>\n",
       "      <td>5.62857e-18</td>\n",
       "      <td>0.708244</td>\n",
       "      <td>0.221065</td>\n",
       "    </tr>\n",
       "    <tr>\n",
       "      <th>2016-04-22</th>\n",
       "      <td>0.0525975</td>\n",
       "      <td>0.0100329</td>\n",
       "      <td>0.718807</td>\n",
       "      <td>0.218562</td>\n",
       "    </tr>\n",
       "    <tr>\n",
       "      <th>2016-04-25</th>\n",
       "      <td>0</td>\n",
       "      <td>0.0262165</td>\n",
       "      <td>0.769317</td>\n",
       "      <td>0.204467</td>\n",
       "    </tr>\n",
       "    <tr>\n",
       "      <th>...</th>\n",
       "      <td>...</td>\n",
       "      <td>...</td>\n",
       "      <td>...</td>\n",
       "      <td>...</td>\n",
       "    </tr>\n",
       "    <tr>\n",
       "      <th>2018-03-07</th>\n",
       "      <td>0.8</td>\n",
       "      <td>0.0322514</td>\n",
       "      <td>0.121322</td>\n",
       "      <td>0.0464268</td>\n",
       "    </tr>\n",
       "    <tr>\n",
       "      <th>2018-03-08</th>\n",
       "      <td>0.8</td>\n",
       "      <td>0.0342334</td>\n",
       "      <td>0.119156</td>\n",
       "      <td>0.0466104</td>\n",
       "    </tr>\n",
       "    <tr>\n",
       "      <th>2018-03-09</th>\n",
       "      <td>0.8</td>\n",
       "      <td>0.0335539</td>\n",
       "      <td>0.11944</td>\n",
       "      <td>0.0470064</td>\n",
       "    </tr>\n",
       "    <tr>\n",
       "      <th>2018-03-12</th>\n",
       "      <td>0.8</td>\n",
       "      <td>0.0349723</td>\n",
       "      <td>0.117004</td>\n",
       "      <td>0.0480239</td>\n",
       "    </tr>\n",
       "    <tr>\n",
       "      <th>2018-03-13</th>\n",
       "      <td>0.8</td>\n",
       "      <td>0.0318387</td>\n",
       "      <td>0.119855</td>\n",
       "      <td>0.0483059</td>\n",
       "    </tr>\n",
       "    <tr>\n",
       "      <th>2018-03-14</th>\n",
       "      <td>0.8</td>\n",
       "      <td>0.0344606</td>\n",
       "      <td>0.12318</td>\n",
       "      <td>0.0423598</td>\n",
       "    </tr>\n",
       "    <tr>\n",
       "      <th>2018-03-15</th>\n",
       "      <td>0.8</td>\n",
       "      <td>0.0348661</td>\n",
       "      <td>0.121839</td>\n",
       "      <td>0.0432946</td>\n",
       "    </tr>\n",
       "    <tr>\n",
       "      <th>2018-03-16</th>\n",
       "      <td>0.8</td>\n",
       "      <td>0.0424796</td>\n",
       "      <td>0.116477</td>\n",
       "      <td>0.0410434</td>\n",
       "    </tr>\n",
       "    <tr>\n",
       "      <th>2018-03-19</th>\n",
       "      <td>0.8</td>\n",
       "      <td>0.0393868</td>\n",
       "      <td>0.1183</td>\n",
       "      <td>0.0423131</td>\n",
       "    </tr>\n",
       "    <tr>\n",
       "      <th>2018-03-20</th>\n",
       "      <td>0.8</td>\n",
       "      <td>0.0376013</td>\n",
       "      <td>0.118206</td>\n",
       "      <td>0.0441924</td>\n",
       "    </tr>\n",
       "    <tr>\n",
       "      <th>2018-03-21</th>\n",
       "      <td>0.8</td>\n",
       "      <td>0.0255663</td>\n",
       "      <td>0.141254</td>\n",
       "      <td>0.0331801</td>\n",
       "    </tr>\n",
       "    <tr>\n",
       "      <th>2018-03-22</th>\n",
       "      <td>0.8</td>\n",
       "      <td>0.0288583</td>\n",
       "      <td>0.136574</td>\n",
       "      <td>0.0345681</td>\n",
       "    </tr>\n",
       "    <tr>\n",
       "      <th>2018-03-23</th>\n",
       "      <td>0.8</td>\n",
       "      <td>0.0470746</td>\n",
       "      <td>0.122123</td>\n",
       "      <td>0.0308022</td>\n",
       "    </tr>\n",
       "    <tr>\n",
       "      <th>2018-03-26</th>\n",
       "      <td>0.8</td>\n",
       "      <td>0.0557796</td>\n",
       "      <td>0.118197</td>\n",
       "      <td>0.0260234</td>\n",
       "    </tr>\n",
       "    <tr>\n",
       "      <th>2018-03-27</th>\n",
       "      <td>0.8</td>\n",
       "      <td>0.0583063</td>\n",
       "      <td>0.11936</td>\n",
       "      <td>0.0223334</td>\n",
       "    </tr>\n",
       "    <tr>\n",
       "      <th>2018-03-28</th>\n",
       "      <td>0.8</td>\n",
       "      <td>0.0567601</td>\n",
       "      <td>0.119728</td>\n",
       "      <td>0.0235121</td>\n",
       "    </tr>\n",
       "    <tr>\n",
       "      <th>2018-03-29</th>\n",
       "      <td>8.88178e-17</td>\n",
       "      <td>0.816682</td>\n",
       "      <td>0.153232</td>\n",
       "      <td>0.0300865</td>\n",
       "    </tr>\n",
       "    <tr>\n",
       "      <th>2018-04-02</th>\n",
       "      <td>0</td>\n",
       "      <td>0.816029</td>\n",
       "      <td>0.152064</td>\n",
       "      <td>0.0319075</td>\n",
       "    </tr>\n",
       "    <tr>\n",
       "      <th>2018-04-03</th>\n",
       "      <td>0</td>\n",
       "      <td>0.813233</td>\n",
       "      <td>0.148468</td>\n",
       "      <td>0.0382993</td>\n",
       "    </tr>\n",
       "    <tr>\n",
       "      <th>2018-04-04</th>\n",
       "      <td>4.16334e-17</td>\n",
       "      <td>0.813061</td>\n",
       "      <td>0.118385</td>\n",
       "      <td>0.0685531</td>\n",
       "    </tr>\n",
       "    <tr>\n",
       "      <th>2018-04-05</th>\n",
       "      <td>1.01717e-16</td>\n",
       "      <td>0.813684</td>\n",
       "      <td>0.120957</td>\n",
       "      <td>0.0653597</td>\n",
       "    </tr>\n",
       "    <tr>\n",
       "      <th>2018-04-06</th>\n",
       "      <td>0</td>\n",
       "      <td>0.812609</td>\n",
       "      <td>0.120247</td>\n",
       "      <td>0.0671438</td>\n",
       "    </tr>\n",
       "    <tr>\n",
       "      <th>2018-04-09</th>\n",
       "      <td>1.33227e-16</td>\n",
       "      <td>0.812256</td>\n",
       "      <td>0.121046</td>\n",
       "      <td>0.0666984</td>\n",
       "    </tr>\n",
       "    <tr>\n",
       "      <th>2018-04-10</th>\n",
       "      <td>7.77156e-17</td>\n",
       "      <td>0.811772</td>\n",
       "      <td>0.121653</td>\n",
       "      <td>0.0665757</td>\n",
       "    </tr>\n",
       "    <tr>\n",
       "      <th>2018-04-11</th>\n",
       "      <td>6.84445e-17</td>\n",
       "      <td>0.808683</td>\n",
       "      <td>0.128312</td>\n",
       "      <td>0.0630057</td>\n",
       "    </tr>\n",
       "    <tr>\n",
       "      <th>2018-04-12</th>\n",
       "      <td>4.44089e-17</td>\n",
       "      <td>0.808773</td>\n",
       "      <td>0.128324</td>\n",
       "      <td>0.0629039</td>\n",
       "    </tr>\n",
       "    <tr>\n",
       "      <th>2018-04-13</th>\n",
       "      <td>1.24583e-16</td>\n",
       "      <td>0.808573</td>\n",
       "      <td>0.129265</td>\n",
       "      <td>0.0621618</td>\n",
       "    </tr>\n",
       "    <tr>\n",
       "      <th>2018-04-16</th>\n",
       "      <td>0</td>\n",
       "      <td>0.808691</td>\n",
       "      <td>0.129763</td>\n",
       "      <td>0.0615466</td>\n",
       "    </tr>\n",
       "    <tr>\n",
       "      <th>2018-04-17</th>\n",
       "      <td>8.88178e-17</td>\n",
       "      <td>0.809732</td>\n",
       "      <td>0.127675</td>\n",
       "      <td>0.0625937</td>\n",
       "    </tr>\n",
       "    <tr>\n",
       "      <th>2018-04-18</th>\n",
       "      <td>0</td>\n",
       "      <td>0.809106</td>\n",
       "      <td>0.130495</td>\n",
       "      <td>0.0603989</td>\n",
       "    </tr>\n",
       "  </tbody>\n",
       "</table>\n",
       "<p>529 rows × 4 columns</p>\n",
       "</div>"
      ],
      "text/plain": [
       "                   TQQQ           RH       MMM      !DEF0\n",
       "Date                                                     \n",
       "2016-03-14    0.0352006   0.00250196  0.734787   0.227511\n",
       "2016-03-15    0.0394708   0.00323409  0.699499   0.257796\n",
       "2016-03-16     0.003196   0.00339178  0.793442    0.19997\n",
       "2016-03-17    0.0257703   0.00378842  0.777079   0.193362\n",
       "2016-03-18   0.00285876   0.00241391  0.829637    0.16509\n",
       "2016-03-21   0.00796402   0.00222219  0.819563    0.17025\n",
       "2016-03-22     0.077133   0.00263559  0.720123   0.200108\n",
       "2016-03-23     0.173812   0.00260656  0.581024   0.242557\n",
       "2016-03-24     0.254409   0.00248313  0.452604   0.290504\n",
       "2016-03-28     0.107192   0.00262708  0.675031    0.21515\n",
       "2016-03-29   0.00245869   0.00270108  0.846707   0.148133\n",
       "2016-03-30       0.1002    0.0031874  0.688385   0.208228\n",
       "2016-03-31    0.0814017   0.00387136  0.693987    0.22074\n",
       "2016-04-01    0.0580207   0.00481226  0.719384   0.217783\n",
       "2016-04-04     0.120105   0.00457819  0.641647    0.23367\n",
       "2016-04-05     0.105962   0.00383848  0.632899     0.2573\n",
       "2016-04-06    0.0554002   0.00464432  0.685113   0.254843\n",
       "2016-04-07     0.112079   0.00411373  0.660114   0.223693\n",
       "2016-04-08    0.0208426    0.0041498  0.769888    0.20512\n",
       "2016-04-11    0.0266783            0  0.728889   0.244433\n",
       "2016-04-12    0.0132583  1.61141e-18  0.762519   0.224223\n",
       "2016-04-13    0.0200292  9.85112e-18  0.804378   0.175593\n",
       "2016-04-14    0.0173684    0.0128484  0.782751   0.187032\n",
       "2016-04-15    0.0232705  2.29472e-17  0.759558   0.217172\n",
       "2016-04-18    0.0187764  1.02596e-18  0.803867   0.177357\n",
       "2016-04-19    0.0445263   4.7836e-18  0.831857   0.123617\n",
       "2016-04-20    0.0470705            0  0.833948   0.118981\n",
       "2016-04-21    0.0706907  5.62857e-18  0.708244   0.221065\n",
       "2016-04-22    0.0525975    0.0100329  0.718807   0.218562\n",
       "2016-04-25            0    0.0262165  0.769317   0.204467\n",
       "...                 ...          ...       ...        ...\n",
       "2018-03-07          0.8    0.0322514  0.121322  0.0464268\n",
       "2018-03-08          0.8    0.0342334  0.119156  0.0466104\n",
       "2018-03-09          0.8    0.0335539   0.11944  0.0470064\n",
       "2018-03-12          0.8    0.0349723  0.117004  0.0480239\n",
       "2018-03-13          0.8    0.0318387  0.119855  0.0483059\n",
       "2018-03-14          0.8    0.0344606   0.12318  0.0423598\n",
       "2018-03-15          0.8    0.0348661  0.121839  0.0432946\n",
       "2018-03-16          0.8    0.0424796  0.116477  0.0410434\n",
       "2018-03-19          0.8    0.0393868    0.1183  0.0423131\n",
       "2018-03-20          0.8    0.0376013  0.118206  0.0441924\n",
       "2018-03-21          0.8    0.0255663  0.141254  0.0331801\n",
       "2018-03-22          0.8    0.0288583  0.136574  0.0345681\n",
       "2018-03-23          0.8    0.0470746  0.122123  0.0308022\n",
       "2018-03-26          0.8    0.0557796  0.118197  0.0260234\n",
       "2018-03-27          0.8    0.0583063   0.11936  0.0223334\n",
       "2018-03-28          0.8    0.0567601  0.119728  0.0235121\n",
       "2018-03-29  8.88178e-17     0.816682  0.153232  0.0300865\n",
       "2018-04-02            0     0.816029  0.152064  0.0319075\n",
       "2018-04-03            0     0.813233  0.148468  0.0382993\n",
       "2018-04-04  4.16334e-17     0.813061  0.118385  0.0685531\n",
       "2018-04-05  1.01717e-16     0.813684  0.120957  0.0653597\n",
       "2018-04-06            0     0.812609  0.120247  0.0671438\n",
       "2018-04-09  1.33227e-16     0.812256  0.121046  0.0666984\n",
       "2018-04-10  7.77156e-17     0.811772  0.121653  0.0665757\n",
       "2018-04-11  6.84445e-17     0.808683  0.128312  0.0630057\n",
       "2018-04-12  4.44089e-17     0.808773  0.128324  0.0629039\n",
       "2018-04-13  1.24583e-16     0.808573  0.129265  0.0621618\n",
       "2018-04-16            0     0.808691  0.129763  0.0615466\n",
       "2018-04-17  8.88178e-17     0.809732  0.127675  0.0625937\n",
       "2018-04-18            0     0.809106  0.130495  0.0603989\n",
       "\n",
       "[529 rows x 4 columns]"
      ]
     },
     "execution_count": 11,
     "metadata": {},
     "output_type": "execute_result"
    }
   ],
   "source": [
    "b.dropna()"
   ]
  },
  {
   "cell_type": "code",
   "execution_count": 22,
   "metadata": {},
   "outputs": [],
   "source": [
    "s = a"
   ]
  },
  {
   "cell_type": "code",
   "execution_count": 23,
   "metadata": {
    "collapsed": true
   },
   "outputs": [],
   "source": [
    "s = s.iloc[-240:]\n",
    "s.iloc[0]=0\n",
    "s = s.dropna()\n",
    "s = 1+s\n",
    "for i in range(1,len(s)):\n",
    "    s.iloc[i] *= s.iloc[i-1]"
   ]
  },
  {
   "cell_type": "code",
   "execution_count": 24,
   "metadata": {},
   "outputs": [
    {
     "data": {
      "text/plain": [
       "[<matplotlib.lines.Line2D at 0x1190e09e8>]"
      ]
     },
     "execution_count": 24,
     "metadata": {},
     "output_type": "execute_result"
    },
    {
     "data": {
      "image/png": "[encoded data removed]",
      "text/plain": [
       "<Figure size 432x288 with 1 Axes>"
      ]
     },
     "metadata": {},
     "output_type": "display_data"
    }
   ],
   "source": [
    "plt.plot(s)"
   ]
  },
  {
   "cell_type": "code",
   "execution_count": null,
   "metadata": {
    "collapsed": true
   },
   "outputs": [],
   "source": []
  },
  {
   "cell_type": "code",
   "execution_count": 17,
   "metadata": {},
   "outputs": [],
   "source": [
    "import pandas as pd"
   ]
  },
  {
   "cell_type": "code",
   "execution_count": 18,
   "metadata": {},
   "outputs": [],
   "source": [
    "x = pd.DataFrame(index = range(3),columns=range(3))\n",
    "for i in range(3):\n",
    "    for j in range(3):\n",
    "        x[i][j] = i+j*2"
   ]
  },
  {
   "cell_type": "code",
   "execution_count": 32,
   "metadata": {},
   "outputs": [],
   "source": [
    "y = pd.DataFrame(list(range(1,4)),index = range(3),columns=['s'])"
   ]
  },
  {
   "cell_type": "code",
   "execution_count": 19,
   "metadata": {},
   "outputs": [
    {
     "data": {
      "text/html": [
       "<div>\n",
       "<style scoped>\n",
       "    .dataframe tbody tr th:only-of-type {\n",
       "        vertical-align: middle;\n",
       "    }\n",
       "\n",
       "    .dataframe tbody tr th {\n",
       "        vertical-align: top;\n",
       "    }\n",
       "\n",
       "    .dataframe thead th {\n",
       "        text-align: right;\n",
       "    }\n",
       "</style>\n",
       "<table border=\"1\" class=\"dataframe\">\n",
       "  <thead>\n",
       "    <tr style=\"text-align: right;\">\n",
       "      <th></th>\n",
       "      <th>0</th>\n",
       "      <th>1</th>\n",
       "      <th>2</th>\n",
       "    </tr>\n",
       "  </thead>\n",
       "  <tbody>\n",
       "    <tr>\n",
       "      <th>0</th>\n",
       "      <td>0</td>\n",
       "      <td>1</td>\n",
       "      <td>2</td>\n",
       "    </tr>\n",
       "    <tr>\n",
       "      <th>1</th>\n",
       "      <td>2</td>\n",
       "      <td>3</td>\n",
       "      <td>4</td>\n",
       "    </tr>\n",
       "    <tr>\n",
       "      <th>2</th>\n",
       "      <td>4</td>\n",
       "      <td>5</td>\n",
       "      <td>6</td>\n",
       "    </tr>\n",
       "  </tbody>\n",
       "</table>\n",
       "</div>"
      ],
      "text/plain": [
       "   0  1  2\n",
       "0  0  1  2\n",
       "1  2  3  4\n",
       "2  4  5  6"
      ]
     },
     "execution_count": 19,
     "metadata": {},
     "output_type": "execute_result"
    }
   ],
   "source": [
    "x"
   ]
  },
  {
   "cell_type": "code",
   "execution_count": 24,
   "metadata": {},
   "outputs": [],
   "source": [
    "q = x.iloc[::-1]"
   ]
  },
  {
   "cell_type": "code",
   "execution_count": 25,
   "metadata": {
    "collapsed": true
   },
   "outputs": [],
   "source": [
    "q.index = x.index"
   ]
  },
  {
   "cell_type": "code",
   "execution_count": 26,
   "metadata": {},
   "outputs": [
    {
     "data": {
      "text/html": [
       "<div>\n",
       "<style scoped>\n",
       "    .dataframe tbody tr th:only-of-type {\n",
       "        vertical-align: middle;\n",
       "    }\n",
       "\n",
       "    .dataframe tbody tr th {\n",
       "        vertical-align: top;\n",
       "    }\n",
       "\n",
       "    .dataframe thead th {\n",
       "        text-align: right;\n",
       "    }\n",
       "</style>\n",
       "<table border=\"1\" class=\"dataframe\">\n",
       "  <thead>\n",
       "    <tr style=\"text-align: right;\">\n",
       "      <th></th>\n",
       "      <th>0</th>\n",
       "      <th>1</th>\n",
       "      <th>2</th>\n",
       "    </tr>\n",
       "  </thead>\n",
       "  <tbody>\n",
       "    <tr>\n",
       "      <th>0</th>\n",
       "      <td>4</td>\n",
       "      <td>5</td>\n",
       "      <td>6</td>\n",
       "    </tr>\n",
       "    <tr>\n",
       "      <th>1</th>\n",
       "      <td>2</td>\n",
       "      <td>3</td>\n",
       "      <td>4</td>\n",
       "    </tr>\n",
       "    <tr>\n",
       "      <th>2</th>\n",
       "      <td>0</td>\n",
       "      <td>1</td>\n",
       "      <td>2</td>\n",
       "    </tr>\n",
       "  </tbody>\n",
       "</table>\n",
       "</div>"
      ],
      "text/plain": [
       "   0  1  2\n",
       "0  4  5  6\n",
       "1  2  3  4\n",
       "2  0  1  2"
      ]
     },
     "execution_count": 26,
     "metadata": {},
     "output_type": "execute_result"
    }
   ],
   "source": [
    "q"
   ]
  },
  {
   "cell_type": "code",
   "execution_count": 46,
   "metadata": {},
   "outputs": [],
   "source": [
    "y['w'] = 0"
   ]
  },
  {
   "cell_type": "code",
   "execution_count": 49,
   "metadata": {},
   "outputs": [],
   "source": [
    "u = pd.DataFrame(columns=x.columns)"
   ]
  },
  {
   "cell_type": "code",
   "execution_count": 58,
   "metadata": {},
   "outputs": [],
   "source": [
    "u = pd.DataFrame({k:y['s'] for k in range(4)})"
   ]
  },
  {
   "cell_type": "code",
   "execution_count": 59,
   "metadata": {},
   "outputs": [
    {
     "data": {
      "text/html": [
       "<div>\n",
       "<style scoped>\n",
       "    .dataframe tbody tr th:only-of-type {\n",
       "        vertical-align: middle;\n",
       "    }\n",
       "\n",
       "    .dataframe tbody tr th {\n",
       "        vertical-align: top;\n",
       "    }\n",
       "\n",
       "    .dataframe thead th {\n",
       "        text-align: right;\n",
       "    }\n",
       "</style>\n",
       "<table border=\"1\" class=\"dataframe\">\n",
       "  <thead>\n",
       "    <tr style=\"text-align: right;\">\n",
       "      <th></th>\n",
       "      <th>0</th>\n",
       "      <th>1</th>\n",
       "      <th>2</th>\n",
       "      <th>3</th>\n",
       "    </tr>\n",
       "  </thead>\n",
       "  <tbody>\n",
       "    <tr>\n",
       "      <th>0</th>\n",
       "      <td>1</td>\n",
       "      <td>1</td>\n",
       "      <td>1</td>\n",
       "      <td>1</td>\n",
       "    </tr>\n",
       "    <tr>\n",
       "      <th>1</th>\n",
       "      <td>2</td>\n",
       "      <td>2</td>\n",
       "      <td>2</td>\n",
       "      <td>2</td>\n",
       "    </tr>\n",
       "    <tr>\n",
       "      <th>2</th>\n",
       "      <td>3</td>\n",
       "      <td>3</td>\n",
       "      <td>3</td>\n",
       "      <td>3</td>\n",
       "    </tr>\n",
       "  </tbody>\n",
       "</table>\n",
       "</div>"
      ],
      "text/plain": [
       "   0  1  2  3\n",
       "0  1  1  1  1\n",
       "1  2  2  2  2\n",
       "2  3  3  3  3"
      ]
     },
     "execution_count": 59,
     "metadata": {},
     "output_type": "execute_result"
    }
   ],
   "source": [
    "u"
   ]
  },
  {
   "cell_type": "code",
   "execution_count": 6,
   "metadata": {},
   "outputs": [],
   "source": [
    "def f():\n",
    "    return 1,None"
   ]
  },
  {
   "cell_type": "code",
   "execution_count": 7,
   "metadata": {
    "collapsed": true
   },
   "outputs": [],
   "source": [
    "d= f()"
   ]
  },
  {
   "cell_type": "code",
   "execution_count": 8,
   "metadata": {},
   "outputs": [
    {
     "data": {
      "text/plain": [
       "(1, None)"
      ]
     },
     "execution_count": 8,
     "metadata": {},
     "output_type": "execute_result"
    }
   ],
   "source": [
    "d"
   ]
  }
 ],
 "metadata": {
  "kernelspec": {
   "display_name": "Python [conda root]",
   "language": "python",
   "name": "conda-root-py"
  },
  "language_info": {
   "codemirror_mode": {
    "name": "ipython",
    "version": 3
   },
   "file_extension": ".py",
   "mimetype": "text/x-python",
   "name": "python",
   "nbconvert_exporter": "python",
   "pygments_lexer": "ipython3",
   "version": "3.5.3"
  },
  "latex_envs": {
   "LaTeX_envs_menu_present": true,
   "autocomplete": true,
   "bibliofile": "biblio.bib",
   "cite_by": "apalike",
   "current_citInitial": 1,
   "eqLabelWithNumbers": true,
   "eqNumInitial": 1,
   "hotkeys": {
    "equation": "Ctrl-E",
    "itemize": "Ctrl-I"
   },
   "labels_anchors": false,
   "latex_user_defs": false,
   "report_style_numbering": true,
   "user_envs_cfg": false
  }
 },
 "nbformat": 4,
 "nbformat_minor": 2
}
